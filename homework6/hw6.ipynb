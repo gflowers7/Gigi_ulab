{
 "cells": [
  {
   "cell_type": "markdown",
   "id": "21a1f0d2-d75c-4443-b816-1d1db3760454",
   "metadata": {},
   "source": [
    "# HW 6 - Iterables\n",
    "ULAB - Physics and Astronomy Division \\\n",
    "Due **Wednesday, October 30th, 2024 at 11:59pm** on Gradescope\n",
    "\n",
    "### REMINDER: Once you are done with this homework, make sure to include a screenshot of you pushing this notebook inside of your homework6 branch. Make sure to include this screenshot in your branch before submitting to Gradescope!\n",
    "\n",
    "### If there is no screenshot, then you will recieve a zero! \n",
    "\n",
    "General Tip (so you don't get silly points taken off):\n",
    "- Make sure **each function** follows good coding practices (i.e. a comment, detailed names, different steps on each line, etc)."
   ]
  },
  {
   "cell_type": "markdown",
   "id": "8dc7e46b-1e8e-486c-a2e9-d615c687028b",
   "metadata": {},
   "source": [
    "# 1 Lists\n",
    "\n",
    "## 1.1 List Slicing and Striding\n",
    "Write a **function** that takes in a list of integers and returns:\n",
    "\n",
    "- the first 5 elements\n",
    "- the last 5 elements\n",
    "- every 2nd element in the list\n",
    "- the list in reverse order.\n",
    "\n",
    "Use the test case below, along with two other ones (that you make-up):\n",
    "\n",
    "```\n",
    "list = [1, 2, 3, 4, 5, 6, 7, 8, 9, 10, 11, 12, 14, 15, 16, 17, 18, 19, 20]\n",
    "```"
   ]
  },
  {
   "cell_type": "code",
   "execution_count": 44,
   "id": "08dabd73-3dbc-4aab-843a-d4b81102835d",
   "metadata": {},
   "outputs": [
    {
     "name": "stdout",
     "output_type": "stream",
     "text": [
      "([1, 2, 3, 4, 5], [16, 17, 18, 19, 20], [2, 4, 6, 8, 10, 12, 14, 16, 18, 20], [20, 19, 18, 17, 16, 15, 14, 13, 12, 11, 10, 9, 8, 7, 6, 5, 4, 3, 2, 1])\n",
      "my list ([7, 9, 26, 5, 12], [], [9, 5, 12], [5, 12, 12, 5, 26, 9, 7])\n",
      "my list 2 ([9, 8, 7, 6, 5], [], [8, 6, 4, 2], [17890, 2, 3, 4, 5, 6, 7, 8, 9])\n"
     ]
    }
   ],
   "source": [
    "# Your code here for 1.1\n",
    "list1 = [1,2,3,4,5,6,7,8,9,10,11,12,13,14,15,16,17,18,19,20]\n",
    "my_list = [7,9,26,5,12,12,5]\n",
    "my_list2 = [9,8,7,6,5,4,3,2,17890]\n",
    "#wrote my list out, and is my list 1\n",
    "def listOpps(list):\n",
    "    return list[0:5], list[15:21], list[1::2], list[::-1]\n",
    "\n",
    "print(listOpps(list1))\n",
    "print(\"my list\", listOpps(my_list))\n",
    "print(\"my list 2\", listOpps(my_list2))\n"
   ]
  },
  {
   "cell_type": "markdown",
   "id": "92c77920-20fc-455e-bf52-10b5a518ed2d",
   "metadata": {},
   "source": [
    "## 1.2 Iterating Over Lists with For Loops\n",
    "Write a **function** that takes in a list, with a **for** loop to return: \n",
    "- the square of each number in the list\n",
    "- the cube of each even number in the list\n",
    "\n",
    "Use the test case below, along with two other ones (that you make-up):\n",
    "\n",
    "```\n",
    "list = [1, 2, 3, 4, 5, 6]\n",
    "```"
   ]
  },
  {
   "cell_type": "code",
   "execution_count": 28,
   "id": "5054c807-a247-4159-9ce1-43020bcc3000",
   "metadata": {},
   "outputs": [
    {
     "name": "stdout",
     "output_type": "stream",
     "text": [
      "1\n",
      "4\n",
      "9\n",
      "16\n",
      "25\n",
      "36\n",
      "8\n",
      "64\n",
      "216\n"
     ]
    }
   ],
   "source": [
    "list2 = [1, 2, 3, 4, 5, 6]\n",
    "Task2 = []\n",
    "\n",
    "# Calculate and print squares\n",
    "for num in list2:\n",
    "    squaredFunction = num ** 2\n",
    "    print(squaredFunction)\n",
    "\n",
    "# Get every second element and calculate cubes\n",
    "part2 = list2[1::2]\n",
    "for num in part2:\n",
    "    cubedFunction = num ** 3\n",
    "    print(cubedFunction)\n",
    "\n",
    "        \n",
    "\n",
    "\n"
   ]
  },
  {
   "cell_type": "markdown",
   "id": "e2e075da-c004-400d-b796-5435e096816d",
   "metadata": {},
   "source": [
    "# 2 Dictionaries\n",
    "We have not fully covered **dictionaries** in class, but a **dictionary** is a collection of key-value pairs. Each key is unique and is associated with a specific value. Like a real dictionary! \n",
    "\n",
    "You can create a dictionary by placing key-value pairs inside of curly brackets `{}` with a `:` separating the key from the value. \n",
    "\n",
    "Run the cell below for an example:"
   ]
  },
  {
   "cell_type": "code",
   "execution_count": 29,
   "id": "dbdb0f41-4f57-4524-ab51-ff1fc502bdfc",
   "metadata": {},
   "outputs": [
    {
     "name": "stdout",
     "output_type": "stream",
     "text": [
      "{'Mercury': 0.39, 'Venus': 0.72, 'Earth': 1.0, 'Mars': 1.52, 'Jupiter': 5.2, 'Saturn': 9.58, 'Uranus': 19.22, 'Neptune': 30.05}\n"
     ]
    }
   ],
   "source": [
    "# A dictionary that contains some data about the planets in our solar system\n",
    "planet_data = {\n",
    "    \"Mercury\": 0.39, \n",
    "    \"Venus\": 0.72,\n",
    "    \"Earth\": 1.00, # distance from the Sun in AU\n",
    "    \"Mars\": 1.52,\n",
    "    \"Jupiter\": 5.20,\n",
    "    \"Saturn\": 9.58,\n",
    "    \"Uranus\": 19.22,\n",
    "    \"Neptune\": 30.05\n",
    "}   \n",
    "\n",
    "print(planet_data) # print the dictonary"
   ]
  },
  {
   "cell_type": "markdown",
   "id": "886c93f4-0027-4969-ba67-cc12eca04c9c",
   "metadata": {},
   "source": [
    "## 2.1 Looping through a dictionary\n",
    "Write a function that takes in the `planet_data` dictionary and uses a `for` loop to print the names of each of the planets and its distance from the sun."
   ]
  },
  {
   "cell_type": "code",
   "execution_count": 30,
   "id": "a3ab065a-42f5-4aa0-8e0f-38e87c583464",
   "metadata": {},
   "outputs": [
    {
     "name": "stdout",
     "output_type": "stream",
     "text": [
      "Mercury\n",
      "0.39\n",
      "Venus\n",
      "0.72\n",
      "Earth\n",
      "1.0\n",
      "Mars\n",
      "1.52\n",
      "Jupiter\n",
      "5.2\n",
      "Saturn\n",
      "9.58\n",
      "Uranus\n",
      "19.22\n",
      "Neptune\n",
      "30.05\n"
     ]
    }
   ],
   "source": [
    "# Your code here for 2.1\n",
    "for distances in planet_data:\n",
    "    print(distances)\n",
    "    #will print the names of the planets\n",
    "    print(planet_data[distances])\n",
    "    #will print the distances\n"
   ]
  },
  {
   "cell_type": "markdown",
   "id": "2b38b6fb-ce68-4f20-a8a1-ba241e8db53e",
   "metadata": {},
   "source": [
    "## 2.2 Dictionaries and Conditionals\n",
    "Write a function that uses a while loop to print all the planets that are a minimum distance of 5 AU from the Sun. "
   ]
  },
  {
   "cell_type": "code",
   "execution_count": 31,
   "id": "6e07cf13-efba-4a75-ad75-0428dc31108d",
   "metadata": {},
   "outputs": [
    {
     "name": "stdout",
     "output_type": "stream",
     "text": [
      "30.05\n",
      "19.22\n",
      "9.58\n",
      "5.2\n"
     ]
    }
   ],
   "source": [
    "#planet_data = {\"Mercury\": 0.39, \"Venus\": 0.72, \"Earth\": 1.00, \"Mars\": 1.52, \"Jupiter\": 5.2, \"Saturn\": 9.58, \"Uranus\": 19.22, \"Neptune\": 30.05}\n",
    "while len (planet_data) != 0:\n",
    "    #does not equal zero\n",
    "    last = list (planet_data.keys ())[-1]\n",
    "    if planet_data[last] >= 5:\n",
    "        #if statement will allow that anything greater than or equal to 5 will be printed\n",
    "        print(planet_data[last])\n",
    "    planet_data.pop(last)"
   ]
  },
  {
   "cell_type": "markdown",
   "id": "5e1ba0c0-5dd9-44e8-895c-73a36d614949",
   "metadata": {},
   "source": [
    "# 3 Observing Stars in a Cluster\n",
    "Your goal is to calculate the total brightness of a group of stars in a star cluster and estimate how long it would take for a telescope to observer each star, depending on their brightness (magnitude). Here is some background information:\n",
    "- The brightness of a star, from a telescope, is measured by its **apparent magnitude**, a LOWER magnitude means a brighter star. A HIGHER magnitude means a fainter star. So a 4th magnitude star is much brighter than a 17th magnitude star.\n",
    "- To convert magnitude into brightness, use the following formula\n",
    "$$\n",
    "\\text{Brightness} = 10^{-\\frac{\\text{magnitude}}{2.5}}\n",
    "$$\n",
    "\n",
    "Use this list of magnitudes and time limit:\n",
    "\n",
    "```\n",
    "magnitudes = [12.5, 13.2, 14.8, 19.1, 21.0, 18.5, 15.3, 10.5, 23.0]\n",
    "time_limit = 500\n",
    "```\n",
    "\n",
    "Expected outcome (your solutions with be the answers to the ???):\n",
    "- Total brightness of the stars: ???\n",
    "- Total observation time for all observable stars: ???\n",
    "- Number of stars that can be observed within 500 seconds: ???"
   ]
  },
  {
   "cell_type": "markdown",
   "id": "336785a7-71bf-434d-982c-dd72dd29cf71",
   "metadata": {},
   "source": [
    "## 3.1 Calculate Brightness\n",
    "1) Write a **function** which inputs a list of star magnitudes (brightnesses).\n",
    "2) Inside your function, use a `for` loop to calculate (with the given formula) the brightness of each star.\n",
    "3) Inside your function, use a `for` loop to sum up the total brightness of all the stars.\n",
    "5) Have your function return the **total brightness** of all the stars and a **list of the brightnesses** of the stars.\n",
    "6) Test out your function with the **given** magnitude values."
   ]
  },
  {
   "cell_type": "code",
   "execution_count": 32,
   "id": "ccc331f4-c029-4a82-810b-4a78d0fa1a2a",
   "metadata": {},
   "outputs": [
    {
     "name": "stdout",
     "output_type": "stream",
     "text": [
      "1e-05\n",
      "5.248074602497734e-06\n",
      "1.2022644346174132e-06\n",
      "2.29086765276777e-08\n",
      "3.981071705534969e-09\n",
      "3.981071705534969e-08\n",
      "7.585775750291836e-07\n",
      "6.309573444801929e-05\n",
      "6.309573444801942e-10\n",
      "total sum 8.037198248279666e-05\n"
     ]
    }
   ],
   "source": [
    "# Your code here for 3.1\n",
    "\n",
    "magnitudes = [12.5, 13.2, 14.8, 19.1, 21.0, 18.5, 15.3, 10.5, 23.0]\n",
    "total_sum = 0  \n",
    "#after a google, search, i realized that it wouldn't sum until I initialized the total sum \n",
    "\n",
    "for nums in magnitudes:\n",
    "    brightness = 10 ** -(nums / 2.5)  \n",
    "    # calculate brightness\n",
    "    print(brightness)  \n",
    "    total_sum += brightness \n",
    "\n",
    "print(\"total sum\", total_sum) \n"
   ]
  },
  {
   "cell_type": "markdown",
   "id": "9aff0e1c-9f88-4ebb-a05b-d39363d9e88e",
   "metadata": {},
   "source": [
    "## 3.2 Observation Time\n",
    "1) Write a **function** which inputs a list of star magnitudes (brightnesses).\n",
    "2) Inside your function, use a `for` loop to calculate the time to observe each star.\n",
    "- You can just assume each star's observation time is inversely proportional to its brightness with the following formula:\n",
    "\n",
    "$$\n",
    "\\text{Observation Time (in seconds)} \\propto \\frac{1}{\\text{Brightness}} \n",
    "$$\n",
    "\n",
    "3) Inside you function, write a `condition` that ignores stars that have a magnitude greater than 20 (very very faint stars).\n",
    "4) Have your function return the **total observation time** (ignoring >20 magnitudes) and a **list of the times** it would take to observe each individual star.\n",
    "5) Test out your function with the **given** magnitude values."
   ]
  },
  {
   "cell_type": "code",
   "execution_count": 37,
   "id": "0836a62e",
   "metadata": {},
   "outputs": [
    {
     "name": "stdout",
     "output_type": "stream",
     "text": [
      "164.48110885627239\n",
      "Individual observation times: [2.5118864315095806, 6.3095734448019325, 15.848931924611133, 39.810717055349734, 100.0]\n"
     ]
    }
   ],
   "source": [
    "def calculate_observation_time(magnitudes):\n",
    "    observationTimes = []  \n",
    "    total_time = 0  \n",
    "#initialized total time and created an empty list for observationTimes so i can append calues to it\n",
    "\n",
    "    for num in magnitudes:\n",
    "        # calculate brightness for the current magnitude\n",
    "        brightness = 10 ** -(num / 2.5)\n",
    "\n",
    "        if brightness <= 20:  # condition\n",
    "            value = 1 / brightness  # calculate observation time\n",
    "            observationTimes.append(value)  \n",
    "            total_time += value  # add to total time\n",
    "\n",
    "    return total_time, observationTimes  \n",
    "\n",
    "\n",
    "total_time, observation_times = calculate_observation_time(magnitudes)\n",
    "\n",
    "print(total_time)\n",
    "print(\"Individual observation times:\", observation_times)\n"
   ]
  },
  {
   "cell_type": "markdown",
   "id": "102d3c15-0b4f-48a7-8fdc-f896c1841aca",
   "metadata": {},
   "source": [
    "## 3.3 Time Until the Limit\n",
    "1) Write a **function** which inputs a list of star magnitudes (brightnesses) and time limit.\n",
    "   - Make your time limit a default argument.\n",
    "2) Inside your function, make a counter called `total time` and set it to 0.\n",
    "3) Inside your function, use a `while` loop to set the time limit of your observation.\n",
    "4) Inside your function, use assigment operators to update the `total time` observed. \n",
    "5) Inside your function, use a `condition` to skip stars with magnitude 20 or greater. \n",
    "6) Have your function return the **number of stars that can be observed** within the time limit and **how long the observation will take** (this should be less than the time limit).\n",
    "7) Test out your function with the **given** magnitude values and time limit."
   ]
  },
  {
   "cell_type": "code",
   "execution_count": 6,
   "id": "5a541a62-0903-41bd-91c9-ee21172069a3",
   "metadata": {},
   "outputs": [
    {
     "name": "stdout",
     "output_type": "stream",
     "text": [
      "Magnitude: 12.5, Brightness: 1e-05, Observation Time: 99999.99999999999\n",
      "Magnitude: 13.2, Brightness: 5.248074602497734e-06, Observation Time: 190546.07179632442\n",
      "Magnitude: 14.8, Brightness: 1.2022644346174132e-06, Observation Time: 831763.7711026708\n",
      "Magnitude: 19.1, Brightness: 2.29086765276777e-08, Observation Time: 43651583.22401666\n",
      "Magnitude: 18.5, Brightness: 3.981071705534969e-08, Observation Time: 25118864.315095823\n",
      "Magnitude: 15.3, Brightness: 7.585775750291836e-07, Observation Time: 1318256.7385564074\n",
      "Magnitude: 10.5, Brightness: 6.309573444801929e-05, Observation Time: 15848.931924611143\n",
      "Number of stars observed: 0\n",
      "Total observation time: 0\n"
     ]
    }
   ],
   "source": [
    "# Your code here for 3.3\n",
    "def time_until_limit(magnitudes, time_limit=100):\n",
    "    total_time = 0 \n",
    "    # initializing total_time and star_count\n",
    "    star_count = 0  \n",
    "    for magnitude in magnitudes:\n",
    "        if magnitude < 20: # skip stars with magnitude 20 or greater\n",
    "            brightness = 10 ** -(magnitude / 2.5)\n",
    "            observation_time = 1 / brightness  \n",
    "            print(f\"Magnitude: {magnitude}, Brightness: {brightness}, Observation Time: {observation_time}\")\n",
    "\n",
    "            if total_time + observation_time < time_limit:\n",
    "                total_time += observation_time  \n",
    "                star_count += 1  \n",
    "\n",
    "    return star_count, total_time  # return the number of stars and total time\n",
    "\n",
    "\n",
    "result = time_until_limit(magnitudes)\n",
    "\n",
    "print(\"Number of stars observed:\", result[0])\n",
    "print(\"Total observation time:\", result[1])\n",
    "\n"
   ]
  },
  {
   "cell_type": "markdown",
   "id": "d2ab246f-9570-483e-b35b-cf1056f20936",
   "metadata": {},
   "source": [
    "## 3.4 Call Upon Your Functions\n",
    "You do not need to rewrite your functions once you have written them! That's what is so awesome about **functions**! \n",
    "\n",
    "1) With a new test case (different magnitudes and time limit) call your three functions you wrote above.\n",
    "2) Print out their return statements, example:\n",
    "\n",
    "```\n",
    ">>> my_return = my_function(my_argument):\n",
    ">>> print(my_return)\n",
    "```"
   ]
  },
  {
   "cell_type": "code",
   "execution_count": 19,
   "id": "4c4c9389-04f5-49bc-823c-a12d6c003b60",
   "metadata": {},
   "outputs": [
    {
     "name": "stdout",
     "output_type": "stream",
     "text": [
      "Total observation time: 715139011.4136417\n",
      "Observation times for each star: [25118.86431509582, 1584893.1924611141, 15848931.924611142, 63095734.448019296, 630957344.4801942, 3019951.720402013, 398107.1705534969, 208929.6130854041]\n",
      "Magnitude: 11.0, Brightness: 3.9810717055349695e-05, Observation Time: 25118.86431509582\n",
      "Magnitude: 15.5, Brightness: 6.30957344480193e-07, Observation Time: 1584893.1924611141\n",
      "Magnitude: 18.0, Brightness: 6.30957344480193e-08, Observation Time: 15848931.924611142\n",
      "Magnitude: 19.5, Brightness: 1.5848931924611143e-08, Observation Time: 63095734.448019296\n",
      "Magnitude: 16.2, Brightness: 3.3113112148259143e-07, Observation Time: 3019951.720402013\n",
      "Magnitude: 14.0, Brightness: 2.5118864315095823e-06, Observation Time: 398107.1705534969\n",
      "Magnitude: 13.3, Brightness: 4.78630092322638e-06, Observation Time: 208929.6130854041\n",
      "Number of stars observed: 0\n",
      "Total observation time within limit: 0\n"
     ]
    }
   ],
   "source": [
    "# Your code here for 3.4\n",
    "# Call the function to calculate observation time\n",
    "total_observation_time, observation_times = calculate_observation_time(new_magnitudes)\n",
    "print(\"Total observation time:\", total_observation_time)\n",
    "print(\"Observation times for each star:\", observation_times)\n",
    "\n",
    "# Call the function to see how many stars can be observed within the time limit\n",
    "stars_observed, total_time = time_until_limit(new_magnitudes, new_time_limit)\n",
    "print(\"Number of stars observed:\", stars_observed)\n",
    "print(\"Total observation time within limit:\", total_time)\n"
   ]
  },
  {
   "cell_type": "markdown",
   "id": "daba92d4-a646-4efc-824d-85b52ea3c573",
   "metadata": {},
   "source": [
    "# 4 Debug the Quadratic Function!\n",
    "The code below does not follow proper coding hygiene (good coding sklls) and is riddled with bugs! Answer the following question and follow the steps below:\n",
    "1) When you run the cell, what is the first error you get? What does this mean? What are three other things wrong with this function?\n",
    "2) Fix the bugs! No importing packages.\n",
    "3) Rewrite the code, such that it follows \"good coding skills\".\n",
    "\n",
    "Try out the test case of `a = 2`, `b = -5` and `c = 3`. You should get `(1.5, 1.0)`. Try out your own test case as well."
   ]
  },
  {
   "cell_type": "markdown",
   "id": "a0c9da8f",
   "metadata": {},
   "source": [
    "1) the first error i get when i run the cell is a Syntax error because of the 2a, if you want to multiply a number like that, you have to do it 2*a."
   ]
  },
  {
   "cell_type": "code",
   "execution_count": 21,
   "id": "00f9415f",
   "metadata": {},
   "outputs": [
    {
     "ename": "SyntaxError",
     "evalue": "invalid syntax (3123343732.py, line 5)",
     "output_type": "error",
     "traceback": [
      "\u001b[0;36m  Cell \u001b[0;32mIn[21], line 5\u001b[0;36m\u001b[0m\n\u001b[0;31m    bottom = 2a\u001b[0m\n\u001b[0m              ^\u001b[0m\n\u001b[0;31mSyntaxError\u001b[0m\u001b[0;31m:\u001b[0m invalid syntax\n"
     ]
    }
   ],
   "source": [
    "def q_f(a, b = [1, 10, -5], c = \"three\"):\n",
    "    new_b = b[0]\n",
    "    bottom = two * a\n",
    "    a = 2\n",
    "    bottom = 2a\n",
    "    while bottom != 0:\n",
    "        print(\"\n",
    "    pos_answer == (-b + (b*2 - 4 * a * c)**(1/2)) / bottom \n",
    "    neg_answer = (-b - (b**2 - 44 * a * c)**(1/2)) // bottom\n",
    "    neg_answer = -(pos_answer) \n",
    "    \n",
    "    return [(max(neg_answer), min(pos_answer)) for i in range(55)]"
   ]
  },
  {
   "cell_type": "code",
   "execution_count": 25,
   "id": "cd66dd28-f8d3-447c-8d20-ff3e31bfaa07",
   "metadata": {},
   "outputs": [
    {
     "name": "stdout",
     "output_type": "stream",
     "text": [
      "(1.5, 1.0)\n"
     ]
    }
   ],
   "source": [
    "#def q_f(a, b = [1, 10, -5], c = \"three\"): previously like this, changed the name of the function and changed the values\n",
    "#I also changed the = to values because I define the values when printing it\n",
    "def quadratic_function(a, b, c):\n",
    "    new_b = b\n",
    "    bottom = 2 * a\n",
    "    #a = 2 this and bottom is not needed so i #\n",
    "    #bottom = 2a\n",
    "    nums = b**2 - 4 * a * c\n",
    "    #starting to form the equation\n",
    "    while nums < 0:\n",
    "        print(\"No real roots\")\n",
    "    #pos_answer = (-b + (b*2 - 4 * a * c)**(1/2)) / bottom, less complicated by replacing all the stuff with sqrt_nums\n",
    "    sqrt_nums = nums **0.5\n",
    "    pos_answer = (-b + sqrt_nums) / bottom \n",
    "    #neg_answer = (-b - (b**2 - 44 * a * c)**(1/2)) // bottom same for neg\n",
    "    neg_answer = (-b - sqrt_nums) // bottom\n",
    "    #neg_answer = -(pos_answer) not needed\n",
    "    \n",
    "    return (max(pos_answer, neg_answer), min(pos_answer, neg_answer))#this will allow it to return as a single tuple\n",
    "\n",
    "print(quadratic_function(2, -5, 3))"
   ]
  },
  {
   "cell_type": "markdown",
   "id": "8cf33b19-9bca-484e-8129-d8a4896a1bfa",
   "metadata": {},
   "source": [
    "# 5 Proper Submission\n",
    "To recieve full credit for this assignment make sure you do the following:\n",
    "1) Copy this jupter notebook from the `ulab_2024` repository into **YOUR** local `homework` branch.\n",
    "   \n",
    "3) Follow the tasks. Make sure to run all the cells so that all output is visible.\n",
    "   \n",
    "5) Push this notebook to your remote `homework6` branch. Refer to the lecture slides for more information.\n",
    "      \n",
    "6) **WARNING!! IF YOU DO NOT FOLLOW THIS STEP YOU WILL RECIEVE A ZERO!**\n",
    "   1) Take a screenshot of your command line when you `push` this notebook from your local `homework6` branch to your remote `homework6` branch. Make sure to prove that you are inside a branch besides `main` or `master` by calling `git branch` and make sure to prove that your `homework6` branch only contains the homework4 folder of Jupyter Notebook you copied over from `ulab_2024` (which can be done by calling `ls`). You could also call `git status` before/after as a way to prove you pushed the proper files to the correct branches.\n",
    "   2)  Include that screenshot in your remote branch when you upload your GitHub branch to Gradescope!"
   ]
  },
  {
   "cell_type": "code",
   "execution_count": null,
   "id": "b0926042-d1cf-4a2e-8fc8-d93395a6a7cf",
   "metadata": {},
   "outputs": [],
   "source": []
  }
 ],
 "metadata": {
  "kernelspec": {
   "display_name": "Python 3 (ipykernel)",
   "language": "python",
   "name": "python3"
  },
  "language_info": {
   "codemirror_mode": {
    "name": "ipython",
    "version": 3
   },
   "file_extension": ".py",
   "mimetype": "text/x-python",
   "name": "python",
   "nbconvert_exporter": "python",
   "pygments_lexer": "ipython3",
   "version": "3.9.6"
  }
 },
 "nbformat": 4,
 "nbformat_minor": 5
}
